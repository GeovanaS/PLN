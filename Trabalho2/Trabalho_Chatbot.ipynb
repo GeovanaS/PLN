{
  "nbformat": 4,
  "nbformat_minor": 0,
  "metadata": {
    "colab": {
      "name": "Trabalho_Chatbot.ipynb",
      "provenance": [],
      "collapsed_sections": []
    },
    "kernelspec": {
      "name": "python3",
      "display_name": "Python 3"
    }
  },
  "cells": [
    {
      "cell_type": "code",
      "metadata": {
        "id": "s5nJSPuSrtQ0",
        "colab_type": "code",
        "colab": {}
      },
      "source": [
        "import nltk\n",
        "import numpy as np\n",
        "import random\n",
        "import string "
      ],
      "execution_count": 0,
      "outputs": []
    },
    {
      "cell_type": "code",
      "metadata": {
        "id": "XWusUUxcsAo1",
        "colab_type": "code",
        "outputId": "27e26eed-4e20-469b-cca5-e44096d706c3",
        "colab": {
          "base_uri": "https://localhost:8080/",
          "height": 118
        }
      },
      "source": [
        "from google.colab import drive\n",
        "\n",
        "drive.mount('/content/drive')"
      ],
      "execution_count": 2,
      "outputs": [
        {
          "output_type": "stream",
          "text": [
            "Go to this URL in a browser: https://accounts.google.com/o/oauth2/auth?client_id=947318989803-6bn6qk8qdgf4n4g3pfee6491hc0brc4i.apps.googleusercontent.com&redirect_uri=urn%3aietf%3awg%3aoauth%3a2.0%3aoob&response_type=code&scope=email%20https%3a%2f%2fwww.googleapis.com%2fauth%2fdocs.test%20https%3a%2f%2fwww.googleapis.com%2fauth%2fdrive%20https%3a%2f%2fwww.googleapis.com%2fauth%2fdrive.photos.readonly%20https%3a%2f%2fwww.googleapis.com%2fauth%2fpeopleapi.readonly\n",
            "\n",
            "Enter your authorization code:\n",
            "··········\n",
            "Mounted at /content/drive\n"
          ],
          "name": "stdout"
        }
      ]
    },
    {
      "cell_type": "code",
      "metadata": {
        "id": "vD4KHFhD1Zou",
        "colab_type": "code",
        "outputId": "85bdb3a2-f3c3-4dbe-bb4e-92da471fe7c0",
        "colab": {
          "base_uri": "https://localhost:8080/",
          "height": 265
        }
      },
      "source": [
        "import io\n",
        "\n",
        "print(\"ASSISTENTE: Serei seu Assistente. Se você desejar sair diga tchau!\")\n",
        "  \n",
        "#Escolha do assunto\n",
        "assunto = input('Escolha o assunto da notícia desejada: ') \n",
        "if assunto == 'ambiente':\n",
        "   f=io.open('/content/drive/My Drive/Colab Notebooks/chatbot-assuntos/ambiente.txt','r', encoding=\"utf-8\")\n",
        "elif assunto == 'cotidiano':\n",
        "   f=io.open('/content/drive/My Drive/Colab Notebooks/chatbot-assuntos/cotidiano.txt','r', encoding=\"utf-8\")\n",
        "elif assunto == 'esporte':\n",
        "   f=io.open('/content/drive/My Drive/Colab Notebooks/chatbot-assuntos/esporte.txt','r', encoding='utf8')\n",
        "elif assunto == 'ilustrada':\n",
        "   f=io.open('/content/drive/My Drive/Colab Notebooks/chatbot-assuntos/ilustrada.txt','r', encoding=\"utf-8\")\n",
        "elif assunto == 'mercado':\n",
        "   f=io.open('/content/drive/My Drive/Colab Notebooks/chatbot-assuntos/mercado.txt','r',  encoding=\"utf-8\")\n",
        "elif assunto == 'mundo':\n",
        "   f=io.open('/content/drive/My Drive/Colab Notebooks/chatbot-assuntos/mundo.txt','r', encoding='utf-8')\n",
        "elif assunto == 'poder':\n",
        "   f=io.open('/content/drive/My Drive/Colab Notebooks/chatbot-assuntos/poder.txt','r', encoding='utf-8')\n",
        "elif assunto == 'tec':\n",
        "   f=io.open('/content/drive/My Drive/Colab Notebooks/chatbot-assuntos/tec.txt','r', encoding='utf-8')\n",
        "else:\n",
        "   print(\"Ainda não tenho informações sobre esse assunto\")\n",
        "\n",
        "raw=f.read()\n",
        "raw=raw.lower() # converts to lowercase\n",
        "nltk.download('punkt')   \n",
        "nltk.download('wordnet')\n",
        "sent_tokens = nltk.sent_tokenize(raw) # converts to list of sentences \n",
        "word_tokens = nltk.word_tokenize(raw) # converts to list of words\n",
        "  \n",
        "#Keyword matching\n",
        "SAUDACAO_ENTRADA = (\"ola\", \"oi\", \"bom dia\", \"boa tarde\", \"boa noite\", \"ei\")\n",
        "RESPOSTA_SAUDACAO = [\"Oi\", \"Olá\", \"Em que posso lhe ajudar?\", \"Estou feliz por você estar falando comigo!\"]\n",
        "def greeting(sentence):\n",
        "    for word in sentence.split():\n",
        "        if word.lower() in SAUDACAO_ENTRADA:\n",
        "           return random.choice(RESPOSTA_SAUDACAO)\n",
        "  \n",
        "#Generating Response\n",
        "from sklearn.feature_extraction.text import TfidfVectorizer\n",
        "from sklearn.metrics.pairwise import cosine_similarity\n",
        "\n",
        "def response(user_response):\n",
        "    robo_response=''\n",
        "    sent_tokens.append(user_response)\n",
        "    TfidfVec = TfidfVectorizer(tokenizer=LemNormalize)\n",
        "    tfidf = TfidfVec.fit_transform(sent_tokens)\n",
        "    vals = cosine_similarity(tfidf[-1], tfidf)\n",
        "    idx=vals.argsort()[0][-2]\n",
        "    flat = vals.flatten()\n",
        "    flat.sort()\n",
        "    req_tfidf = flat[-2]\n",
        "    if(req_tfidf==0):\n",
        "        robo_response=robo_response+\"Desculpe! Ainda não sei sobre esse assunto.\"\n",
        "        return robo_response\n",
        "    else:\n",
        "        robo_response = robo_response+sent_tokens[idx]\n",
        "        return robo_response\n",
        "\n",
        "flag=True\n",
        "\n",
        "#Pre-processing the raw text\n",
        "lemmer = nltk.stem.WordNetLemmatizer()\n",
        "def LemTokens(tokens):\n",
        "    return [lemmer.lemmatize(token) for token in tokens]\n",
        "\n",
        "remove_punct_dict = dict((ord(punct), None) for punct in string.punctuation)\n",
        "\n",
        "def LemNormalize(text):\n",
        "    return LemTokens(nltk.word_tokenize(text.lower().translate(remove_punct_dict)))\n",
        "\n",
        "while(flag==True):\n",
        "    user_response = input()\n",
        "    user_response=user_response.lower()\n",
        "    if(user_response!='tchau'):\n",
        "        if(user_response=='Obrigado' or user_response=='Espero ter ajudado'):\n",
        "            flag=False\n",
        "            print(\"ASSISTENTE: Seja bem vindo!\") \n",
        "        else:\n",
        "            if(greeting(user_response)!=None):\n",
        "                print(\"ASSISTENTE: \"+greeting(user_response))\n",
        "            else:\n",
        "                print(\"ASSISTENTE: \",end=\"\")\n",
        "                print(response(user_response))\n",
        "                sent_tokens.remove(user_response)\n",
        "    else:\n",
        "        flag=False\n",
        "        print(\"ASSISTENTE: Até logo!\")\n",
        "\n"
      ],
      "execution_count": 3,
      "outputs": [
        {
          "output_type": "stream",
          "text": [
            "ASSISTENTE: Serei seu Assistente. Se você desejar sair diga tchau!\n",
            "Escolha o assunto da notícia desejada: ilustrada\n",
            "[nltk_data] Downloading package punkt to /root/nltk_data...\n",
            "[nltk_data]   Unzipping tokenizers/punkt.zip.\n",
            "[nltk_data] Downloading package wordnet to /root/nltk_data...\n",
            "[nltk_data]   Unzipping corpora/wordnet.zip.\n",
            "star wars\n",
            "ASSISTENTE: filme 'star wars: os últimos jedi' ganha trailer definitivo; assista,\"a disney divulgou na noite desta segunda-feira (9) o novo trailer de \"\"star wars: os últimos jedi\"\", oitavo episódio da saga.\n",
            "filme\n",
            "ASSISTENTE: com direção de rian johnson, o filme será lançado em 14 de dezembro no brasil.\n",
            "atriz\n",
            "ASSISTENTE: Desculpe! Ainda não sei sobre esse assunto.\n",
            "tchau\n",
            "ASSISTENTE: Até logo!\n"
          ],
          "name": "stdout"
        }
      ]
    }
  ]
}